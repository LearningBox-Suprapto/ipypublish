{
 "cells": [
  {
   "cell_type": "code",
   "execution_count": 1,
   "metadata": {},
   "outputs": [
    {
     "data": {
      "application/vnd.jupyter.widget-view+json": {
       "model_id": "669d53a06ed846a685ddda74f0e9336a",
       "version_major": 2,
       "version_minor": 0
      },
      "text/plain": [
       "Button(description='Hallo', style=ButtonStyle())"
      ]
     },
     "metadata": {},
     "output_type": "display_data"
    }
   ],
   "source": [
    "import ipywidgets\n",
    "button = ipywidgets.Button()\n",
    "button.description = \"Hallo\"\n",
    "button"
   ]
  }
 ],
 "metadata": {
  "hide_input": false,
  "kernelspec": {
   "display_name": "Python 3",
   "language": "python",
   "name": "python3"
  },
  "language_info": {
   "codemirror_mode": {
    "name": "ipython",
    "version": 3
   },
   "file_extension": ".py",
   "mimetype": "text/x-python",
   "name": "python",
   "nbconvert_exporter": "python",
   "pygments_lexer": "ipython3",
   "version": "3.6.7"
  },
  "toc": {
   "base_numbering": 1,
   "nav_menu": {},
   "number_sections": true,
   "sideBar": true,
   "skip_h1_title": false,
   "title_cell": "Table of Contents",
   "title_sidebar": "Contents",
   "toc_cell": false,
   "toc_position": {},
   "toc_section_display": true,
   "toc_window_display": false
  },
  "widgets": {
   "application/vnd.jupyter.widget-state+json": {
    "state": {
     "074f9bae66bb41c4939fe269168c81cb": {
      "model_module": "@jupyter-widgets/controls",
      "model_module_version": "1.5.0",
      "model_name": "ButtonStyleModel",
      "state": {}
     },
     "0b0ac26f30284345b16a98ea2f65e3ec": {
      "model_module": "@jupyter-widgets/base",
      "model_module_version": "1.2.0",
      "model_name": "LayoutModel",
      "state": {}
     },
     "19922a98931a4f5a96f582bc9309e311": {
      "model_module": "@jupyter-widgets/base",
      "model_module_version": "1.2.0",
      "model_name": "LayoutModel",
      "state": {}
     },
     "19a44d2ac1574ecd856f62599767679d": {
      "model_module": "@jupyter-widgets/controls",
      "model_module_version": "1.5.0",
      "model_name": "ButtonModel",
      "state": {
       "layout": "IPY_MODEL_19922a98931a4f5a96f582bc9309e311",
       "style": "IPY_MODEL_483ce6db6a404e428204c91e6b86f9ff"
      }
     },
     "1f88a8d40b964fd09097a75dde54f513": {
      "model_module": "@jupyter-widgets/base",
      "model_module_version": "1.2.0",
      "model_name": "LayoutModel",
      "state": {}
     },
     "23caef4d9b8342d2af72a007558d53db": {
      "model_module": "@jupyter-widgets/controls",
      "model_module_version": "1.5.0",
      "model_name": "ButtonStyleModel",
      "state": {}
     },
     "2e5fa6a6ff624f1f97f3c3e6d9a34212": {
      "model_module": "@jupyter-widgets/controls",
      "model_module_version": "1.5.0",
      "model_name": "ButtonStyleModel",
      "state": {}
     },
     "483ce6db6a404e428204c91e6b86f9ff": {
      "model_module": "@jupyter-widgets/controls",
      "model_module_version": "1.5.0",
      "model_name": "ButtonStyleModel",
      "state": {}
     },
     "4ed50195d7a14e8da57fdc3f3d69f810": {
      "model_module": "@jupyter-widgets/controls",
      "model_module_version": "1.5.0",
      "model_name": "ButtonModel",
      "state": {
       "layout": "IPY_MODEL_1f88a8d40b964fd09097a75dde54f513",
       "style": "IPY_MODEL_a150ddee2425493d807bc0dcae7c75c9"
      }
     },
     "537a83dea36b471cbb61dd977f3f9a98": {
      "model_module": "@jupyter-widgets/base",
      "model_module_version": "1.2.0",
      "model_name": "LayoutModel",
      "state": {}
     },
     "669d53a06ed846a685ddda74f0e9336a": {
      "model_module": "@jupyter-widgets/controls",
      "model_module_version": "1.5.0",
      "model_name": "ButtonModel",
      "state": {
       "description": "Hallo",
       "layout": "IPY_MODEL_b924c12db07a455c8bed22b608e2df8b",
       "style": "IPY_MODEL_074f9bae66bb41c4939fe269168c81cb"
      }
     },
     "71652fdef80148c4b871fcc19c0a6daa": {
      "model_module": "@jupyter-widgets/controls",
      "model_module_version": "1.5.0",
      "model_name": "ButtonStyleModel",
      "state": {}
     },
     "a150ddee2425493d807bc0dcae7c75c9": {
      "model_module": "@jupyter-widgets/controls",
      "model_module_version": "1.5.0",
      "model_name": "ButtonStyleModel",
      "state": {}
     },
     "acc4d506800940edbd569adb2c0eec1d": {
      "model_module": "@jupyter-widgets/base",
      "model_module_version": "1.2.0",
      "model_name": "LayoutModel",
      "state": {}
     },
     "b924c12db07a455c8bed22b608e2df8b": {
      "model_module": "@jupyter-widgets/base",
      "model_module_version": "1.2.0",
      "model_name": "LayoutModel",
      "state": {}
     },
     "d4c0623dc3f94e0b8ef89b633e91b914": {
      "model_module": "@jupyter-widgets/controls",
      "model_module_version": "1.5.0",
      "model_name": "ButtonModel",
      "state": {
       "layout": "IPY_MODEL_0b0ac26f30284345b16a98ea2f65e3ec",
       "style": "IPY_MODEL_23caef4d9b8342d2af72a007558d53db"
      }
     },
     "e0ebc1ea89d9478db6501906faccf907": {
      "model_module": "@jupyter-widgets/controls",
      "model_module_version": "1.5.0",
      "model_name": "ButtonModel",
      "state": {
       "layout": "IPY_MODEL_537a83dea36b471cbb61dd977f3f9a98",
       "style": "IPY_MODEL_2e5fa6a6ff624f1f97f3c3e6d9a34212"
      }
     },
     "e4bd39947b384e9b9f7391a2b313f474": {
      "model_module": "@jupyter-widgets/controls",
      "model_module_version": "1.5.0",
      "model_name": "ButtonModel",
      "state": {
       "description": "Hallo",
       "layout": "IPY_MODEL_acc4d506800940edbd569adb2c0eec1d",
       "style": "IPY_MODEL_71652fdef80148c4b871fcc19c0a6daa"
      }
     }
    },
    "version_major": 2,
    "version_minor": 0
   }
  }
 },
 "nbformat": 4,
 "nbformat_minor": 2
}
